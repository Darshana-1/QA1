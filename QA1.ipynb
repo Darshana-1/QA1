{
 "cells": [
  {
   "cell_type": "code",
   "execution_count": null,
   "id": "30c91269",
   "metadata": {},
   "outputs": [],
   "source": [
    "Question 1:\n",
    "Consider the code\n",
    "x=8\n",
    "y=10\n",
    "result=x//3*3/2+y%2**2\n",
    "print(result)"
   ]
  },
  {
   "cell_type": "code",
   "execution_count": 1,
   "id": "1aed3656",
   "metadata": {},
   "outputs": [
    {
     "name": "stdout",
     "output_type": "stream",
     "text": [
      "5.0\n"
     ]
    }
   ],
   "source": [
    "x=8\n",
    "y=10\n",
    "result=x//3*3/2+y%2**2\n",
    "print(result)"
   ]
  },
  {
   "cell_type": "code",
   "execution_count": null,
   "id": "51b4371c",
   "metadata": {},
   "outputs": [],
   "source": [
    "Question 2:\n",
    "start=input(\"How old were you at the time of joining?\")\n",
    "end=input(\"How old are you today?\")\n",
    "which of the following code is valid to print congratulations message?\n"
   ]
  },
  {
   "cell_type": "code",
   "execution_count": 10,
   "id": "ad0631a3",
   "metadata": {},
   "outputs": [
    {
     "name": "stdout",
     "output_type": "stream",
     "text": [
      "How old were you at the time of joining?24\n",
      "How old are you today?57\n"
     ]
    }
   ],
   "source": [
    "start=input(\"How old were you at the time of joining?\")\n",
    "end=input(\"How old are you today?\")\n"
   ]
  },
  {
   "cell_type": "code",
   "execution_count": 12,
   "id": "b1f2a633",
   "metadata": {},
   "outputs": [
    {
     "data": {
      "text/plain": [
       "'33'"
      ]
     },
     "execution_count": 12,
     "metadata": {},
     "output_type": "execute_result"
    }
   ],
   "source": [
    "str(int(end)-int(start))"
   ]
  },
  {
   "cell_type": "code",
   "execution_count": 22,
   "id": "b6064af1",
   "metadata": {},
   "outputs": [
    {
     "name": "stdout",
     "output_type": "stream",
     "text": [
      "Congratulations on 33 Years of service!\n"
     ]
    }
   ],
   "source": [
    "print('Congratulations on ' + str(int(end)-int(start)) + ' Years of service!')"
   ]
  },
  {
   "cell_type": "code",
   "execution_count": null,
   "id": "3115716e",
   "metadata": {},
   "outputs": [],
   "source": [
    "Question 3:\n",
    "Consider the code:\n",
    "x='ACROTE'\n",
    "y='APPLE'\n",
    "z='TOMATO'\n",
    "which of the following won't print 'CAT' to the console "
   ]
  },
  {
   "cell_type": "code",
   "execution_count": 27,
   "id": "51719961",
   "metadata": {},
   "outputs": [],
   "source": [
    "x='ACROTE'\n",
    "y='APPLE'\n",
    "z='TOMATO'\n"
   ]
  },
  {
   "cell_type": "code",
   "execution_count": 30,
   "id": "932a9186",
   "metadata": {},
   "outputs": [
    {
     "data": {
      "text/plain": [
       "'CAT'"
      ]
     },
     "execution_count": 30,
     "metadata": {},
     "output_type": "execute_result"
    }
   ],
   "source": [
    "x[1]+y[0]+z[0]"
   ]
  },
  {
   "cell_type": "code",
   "execution_count": 31,
   "id": "fbed6726",
   "metadata": {},
   "outputs": [
    {
     "data": {
      "text/plain": [
       "'CAT'"
      ]
     },
     "execution_count": 31,
     "metadata": {},
     "output_type": "execute_result"
    }
   ],
   "source": [
    "x[-5]+y[0]+z[-2]"
   ]
  },
  {
   "cell_type": "code",
   "execution_count": 32,
   "id": "7da41c38",
   "metadata": {},
   "outputs": [
    {
     "data": {
      "text/plain": [
       "'CAT'"
      ]
     },
     "execution_count": 32,
     "metadata": {},
     "output_type": "execute_result"
    }
   ],
   "source": [
    "x[-5]+y[0]+z[0]"
   ]
  },
  {
   "cell_type": "code",
   "execution_count": 33,
   "id": "270b4462",
   "metadata": {},
   "outputs": [
    {
     "data": {
      "text/plain": [
       "'RPO'"
      ]
     },
     "execution_count": 33,
     "metadata": {},
     "output_type": "execute_result"
    }
   ],
   "source": [
    "x[2]+y[1]+z[1]"
   ]
  },
  {
   "cell_type": "code",
   "execution_count": null,
   "id": "4d17095c",
   "metadata": {},
   "outputs": [],
   "source": [
    "Question 4:\n",
    "    x='Durga'\n",
    "    y='Durga'\n",
    "    result= condition\n",
    "    print(result)"
   ]
  },
  {
   "cell_type": "code",
   "execution_count": 35,
   "id": "83e2816d",
   "metadata": {},
   "outputs": [],
   "source": [
    "x='Durga'\n",
    "y='Durga'"
   ]
  },
  {
   "cell_type": "code",
   "execution_count": 36,
   "id": "ac4431ad",
   "metadata": {},
   "outputs": [
    {
     "data": {
      "text/plain": [
       "False"
      ]
     },
     "execution_count": 36,
     "metadata": {},
     "output_type": "execute_result"
    }
   ],
   "source": [
    "x<y"
   ]
  },
  {
   "cell_type": "code",
   "execution_count": 37,
   "id": "1b9d456f",
   "metadata": {},
   "outputs": [
    {
     "data": {
      "text/plain": [
       "False"
      ]
     },
     "execution_count": 37,
     "metadata": {},
     "output_type": "execute_result"
    }
   ],
   "source": [
    "x!=y"
   ]
  },
  {
   "cell_type": "code",
   "execution_count": 39,
   "id": "a3cb79ed",
   "metadata": {},
   "outputs": [
    {
     "data": {
      "text/plain": [
       "False"
      ]
     },
     "execution_count": 39,
     "metadata": {},
     "output_type": "execute_result"
    }
   ],
   "source": [
    "x is not y"
   ]
  },
  {
   "cell_type": "code",
   "execution_count": 40,
   "id": "6b873a49",
   "metadata": {},
   "outputs": [
    {
     "data": {
      "text/plain": [
       "True"
      ]
     },
     "execution_count": 40,
     "metadata": {},
     "output_type": "execute_result"
    }
   ],
   "source": [
    "x is y"
   ]
  },
  {
   "cell_type": "code",
   "execution_count": null,
   "id": "a7789315",
   "metadata": {},
   "outputs": [],
   "source": [
    "Question 5:\n",
    "code segment 1:\n",
    "    a1='10'\n",
    "    b1=3\n",
    "    c1=a1*b1\n",
    "code segment 2:    \n",
    "    a2=10\n",
    "    b2=3\n",
    "    c2=a2/b2\n",
    "code segment 3:   \n",
    "    a3=2.6\n",
    "    b3=1\n",
    "    c3=a3/b3"
   ]
  },
  {
   "cell_type": "code",
   "execution_count": 47,
   "id": "69cec4a1",
   "metadata": {},
   "outputs": [],
   "source": [
    "a1='10'\n",
    "b1=3\n",
    "c1=a1*b1\n",
    "a2=10\n",
    "b2=3\n",
    "c2=a2/b2\n",
    "a3=2.6\n",
    "b3=1\n",
    "c3=a3/b3"
   ]
  },
  {
   "cell_type": "code",
   "execution_count": 52,
   "id": "10c0f6e0",
   "metadata": {},
   "outputs": [
    {
     "data": {
      "text/plain": [
       "'101010'"
      ]
     },
     "execution_count": 52,
     "metadata": {},
     "output_type": "execute_result"
    }
   ],
   "source": [
    "c1"
   ]
  },
  {
   "cell_type": "code",
   "execution_count": 53,
   "id": "74f2cb1a",
   "metadata": {},
   "outputs": [
    {
     "data": {
      "text/plain": [
       "3.3333333333333335"
      ]
     },
     "execution_count": 53,
     "metadata": {},
     "output_type": "execute_result"
    }
   ],
   "source": [
    "c2"
   ]
  },
  {
   "cell_type": "code",
   "execution_count": 54,
   "id": "9c751115",
   "metadata": {},
   "outputs": [
    {
     "data": {
      "text/plain": [
       "2.6"
      ]
     },
     "execution_count": 54,
     "metadata": {},
     "output_type": "execute_result"
    }
   ],
   "source": [
    "c3"
   ]
  },
  {
   "cell_type": "code",
   "execution_count": 48,
   "id": "2a13ce37",
   "metadata": {},
   "outputs": [
    {
     "data": {
      "text/plain": [
       "str"
      ]
     },
     "execution_count": 48,
     "metadata": {},
     "output_type": "execute_result"
    }
   ],
   "source": [
    "type(c1)"
   ]
  },
  {
   "cell_type": "code",
   "execution_count": 49,
   "id": "cdfbb515",
   "metadata": {},
   "outputs": [
    {
     "data": {
      "text/plain": [
       "float"
      ]
     },
     "execution_count": 49,
     "metadata": {},
     "output_type": "execute_result"
    }
   ],
   "source": [
    "type(c2)"
   ]
  },
  {
   "cell_type": "code",
   "execution_count": 50,
   "id": "1347e792",
   "metadata": {},
   "outputs": [
    {
     "data": {
      "text/plain": [
       "float"
      ]
     },
     "execution_count": 50,
     "metadata": {},
     "output_type": "execute_result"
    }
   ],
   "source": [
    "type(c3)"
   ]
  },
  {
   "cell_type": "code",
   "execution_count": null,
   "id": "d1685aa9",
   "metadata": {},
   "outputs": [],
   "source": [
    "Question 6:\n",
    "In which of the following cases we will get same result    "
   ]
  },
  {
   "cell_type": "code",
   "execution_count": 2,
   "id": "d71677af",
   "metadata": {},
   "outputs": [
    {
     "data": {
      "text/plain": [
       "3"
      ]
     },
     "execution_count": 2,
     "metadata": {},
     "output_type": "execute_result"
    }
   ],
   "source": [
    "13//4 "
   ]
  },
  {
   "cell_type": "code",
   "execution_count": 56,
   "id": "95b8bbd6",
   "metadata": {},
   "outputs": [
    {
     "data": {
      "text/plain": [
       "3.6666666666666665"
      ]
     },
     "execution_count": 56,
     "metadata": {},
     "output_type": "execute_result"
    }
   ],
   "source": [
    "11/3 "
   ]
  },
  {
   "cell_type": "code",
   "execution_count": 57,
   "id": "4d4a7963",
   "metadata": {},
   "outputs": [
    {
     "data": {
      "text/plain": [
       "3"
      ]
     },
     "execution_count": 57,
     "metadata": {},
     "output_type": "execute_result"
    }
   ],
   "source": [
    "3**1"
   ]
  },
  {
   "cell_type": "code",
   "execution_count": 58,
   "id": "2b07f09e",
   "metadata": {},
   "outputs": [
    {
     "data": {
      "text/plain": [
       "3"
      ]
     },
     "execution_count": 58,
     "metadata": {},
     "output_type": "execute_result"
    }
   ],
   "source": [
    "23%5"
   ]
  },
  {
   "cell_type": "code",
   "execution_count": null,
   "id": "cf8987d5",
   "metadata": {},
   "outputs": [],
   "source": [
    "Question 7:\n",
    "Consider the following lists:\n",
    "n1=[10,20,30,40,50]\n",
    "n2=[10,20,30,40,50]\n",
    "print(\"n1 is n2\")\n",
    "print('n1==n2')\n",
    "What is the output?\n",
    "True/False"
   ]
  },
  {
   "cell_type": "code",
   "execution_count": 59,
   "id": "545646fa",
   "metadata": {},
   "outputs": [],
   "source": [
    "n1=[10,20,30,40,50]\n",
    "n2=[10,20,30,40,50]"
   ]
  },
  {
   "cell_type": "code",
   "execution_count": 60,
   "id": "ea8c64fb",
   "metadata": {},
   "outputs": [
    {
     "data": {
      "text/plain": [
       "[10, 20, 30, 40, 50]"
      ]
     },
     "execution_count": 60,
     "metadata": {},
     "output_type": "execute_result"
    }
   ],
   "source": [
    "n1"
   ]
  },
  {
   "cell_type": "code",
   "execution_count": 61,
   "id": "ceadf27e",
   "metadata": {},
   "outputs": [
    {
     "data": {
      "text/plain": [
       "[10, 20, 30, 40, 50]"
      ]
     },
     "execution_count": 61,
     "metadata": {},
     "output_type": "execute_result"
    }
   ],
   "source": [
    "n2"
   ]
  },
  {
   "cell_type": "code",
   "execution_count": 64,
   "id": "c1d6e23a",
   "metadata": {},
   "outputs": [
    {
     "name": "stdout",
     "output_type": "stream",
     "text": [
      "n1 is n2\n"
     ]
    }
   ],
   "source": [
    "print(\"n1 is n2\")"
   ]
  },
  {
   "cell_type": "code",
   "execution_count": 65,
   "id": "b1adb33e",
   "metadata": {},
   "outputs": [
    {
     "data": {
      "text/plain": [
       "False"
      ]
     },
     "execution_count": 65,
     "metadata": {},
     "output_type": "execute_result"
    }
   ],
   "source": [
    "n1 is n2"
   ]
  },
  {
   "cell_type": "code",
   "execution_count": 66,
   "id": "5ab875de",
   "metadata": {},
   "outputs": [
    {
     "name": "stdout",
     "output_type": "stream",
     "text": [
      "n1 == n2\n"
     ]
    }
   ],
   "source": [
    "print(\"n1 == n2\")"
   ]
  },
  {
   "cell_type": "code",
   "execution_count": 67,
   "id": "22959cbf",
   "metadata": {},
   "outputs": [
    {
     "data": {
      "text/plain": [
       "True"
      ]
     },
     "execution_count": 67,
     "metadata": {},
     "output_type": "execute_result"
    }
   ],
   "source": [
    "n1 == n2"
   ]
  },
  {
   "cell_type": "code",
   "execution_count": null,
   "id": "891423d5",
   "metadata": {},
   "outputs": [],
   "source": [
    "Question 8:\n",
    "Consider the python code\n",
    "a=1\n",
    "b=3\n",
    "c=5\n",
    "d=7\n",
    "In which of the following cases the result value is 0?"
   ]
  },
  {
   "cell_type": "code",
   "execution_count": 69,
   "id": "7763f1c9",
   "metadata": {},
   "outputs": [],
   "source": [
    "a=1\n",
    "b=3\n",
    "c=5\n",
    "d=7"
   ]
  },
  {
   "cell_type": "code",
   "execution_count": 70,
   "id": "072954d7",
   "metadata": {},
   "outputs": [],
   "source": [
    "result=a-b//d"
   ]
  },
  {
   "cell_type": "code",
   "execution_count": 71,
   "id": "6073a310",
   "metadata": {},
   "outputs": [
    {
     "data": {
      "text/plain": [
       "1"
      ]
     },
     "execution_count": 71,
     "metadata": {},
     "output_type": "execute_result"
    }
   ],
   "source": [
    "result"
   ]
  },
  {
   "cell_type": "code",
   "execution_count": 72,
   "id": "ffa997ef",
   "metadata": {},
   "outputs": [],
   "source": [
    "result=a**d-1"
   ]
  },
  {
   "cell_type": "code",
   "execution_count": 73,
   "id": "aa3acbcb",
   "metadata": {},
   "outputs": [
    {
     "data": {
      "text/plain": [
       "0"
      ]
     },
     "execution_count": 73,
     "metadata": {},
     "output_type": "execute_result"
    }
   ],
   "source": [
    "result"
   ]
  },
  {
   "cell_type": "code",
   "execution_count": 74,
   "id": "3a0f976c",
   "metadata": {},
   "outputs": [],
   "source": [
    "result=a+b*2"
   ]
  },
  {
   "cell_type": "code",
   "execution_count": 75,
   "id": "fe8ac489",
   "metadata": {},
   "outputs": [
    {
     "data": {
      "text/plain": [
       "7"
      ]
     },
     "execution_count": 75,
     "metadata": {},
     "output_type": "execute_result"
    }
   ],
   "source": [
    "result"
   ]
  },
  {
   "cell_type": "code",
   "execution_count": 76,
   "id": "12bb2046",
   "metadata": {},
   "outputs": [],
   "source": [
    "result=a%b-1"
   ]
  },
  {
   "cell_type": "code",
   "execution_count": 77,
   "id": "57e2baa8",
   "metadata": {
    "scrolled": true
   },
   "outputs": [
    {
     "data": {
      "text/plain": [
       "0"
      ]
     },
     "execution_count": 77,
     "metadata": {},
     "output_type": "execute_result"
    }
   ],
   "source": [
    "result"
   ]
  },
  {
   "cell_type": "code",
   "execution_count": null,
   "id": "bbcf124f",
   "metadata": {},
   "outputs": [],
   "source": [
    "Question 9:\n",
    "Consider the code\n",
    "s='AB CD'\n",
    "list=list(s)\n",
    "list.append('EF')\n",
    "print(list)"
   ]
  },
  {
   "cell_type": "code",
   "execution_count": 127,
   "id": "c7761ab6",
   "metadata": {},
   "outputs": [
    {
     "ename": "TypeError",
     "evalue": "string indices must be integers",
     "output_type": "error",
     "traceback": [
      "\u001b[1;31m---------------------------------------------------------------------------\u001b[0m",
      "\u001b[1;31mTypeError\u001b[0m                                 Traceback (most recent call last)",
      "\u001b[1;32m~\\AppData\\Local\\Temp/ipykernel_12364/3037281168.py\u001b[0m in \u001b[0;36m<module>\u001b[1;34m\u001b[0m\n\u001b[0;32m      1\u001b[0m \u001b[0ms\u001b[0m\u001b[1;33m=\u001b[0m\u001b[1;34m'AB CD'\u001b[0m\u001b[1;33m\u001b[0m\u001b[1;33m\u001b[0m\u001b[0m\n\u001b[1;32m----> 2\u001b[1;33m \u001b[0mlist\u001b[0m\u001b[1;33m=\u001b[0m\u001b[0mlist\u001b[0m\u001b[1;33m[\u001b[0m\u001b[0ms\u001b[0m\u001b[1;33m]\u001b[0m\u001b[1;33m\u001b[0m\u001b[1;33m\u001b[0m\u001b[0m\n\u001b[0m\u001b[0;32m      3\u001b[0m \u001b[0mlist\u001b[0m\u001b[1;33m.\u001b[0m\u001b[0mappend\u001b[0m\u001b[1;33m(\u001b[0m\u001b[1;34m'EF'\u001b[0m\u001b[1;33m)\u001b[0m\u001b[1;33m\u001b[0m\u001b[1;33m\u001b[0m\u001b[0m\n\u001b[0;32m      4\u001b[0m \u001b[0mprint\u001b[0m\u001b[1;33m(\u001b[0m\u001b[0mlist\u001b[0m\u001b[1;33m)\u001b[0m\u001b[1;33m\u001b[0m\u001b[1;33m\u001b[0m\u001b[0m\n",
      "\u001b[1;31mTypeError\u001b[0m: string indices must be integers"
     ]
    }
   ],
   "source": [
    "s='AB CD'\n",
    "list=list[s]\n",
    "list.append('EF')\n",
    "print(list)"
   ]
  },
  {
   "cell_type": "code",
   "execution_count": null,
   "id": "63623169",
   "metadata": {},
   "outputs": [],
   "source": [
    "Question 10:\n",
    "Consider the Python code\n",
    "a=5\n",
    "b=10\n",
    "c=2\n",
    "d=True\n",
    "\n",
    "x=a+b*c\n",
    "y=a+b/d\n",
    "if(condition)\n",
    "    print(valid)\n",
    "else:\n",
    "    print(invalid)\n",
    "To print valid to the console, which condition we have to take as if statement?"
   ]
  },
  {
   "cell_type": "code",
   "execution_count": 128,
   "id": "d750c5a6",
   "metadata": {},
   "outputs": [
    {
     "name": "stdout",
     "output_type": "stream",
     "text": [
      "25\n",
      "15.0\n"
     ]
    }
   ],
   "source": [
    "a=5\n",
    "b=10\n",
    "c=2\n",
    "d=True\n",
    "x=a+b*c\n",
    "print(x)\n",
    "y=a+b/d\n",
    "print(y)"
   ]
  },
  {
   "cell_type": "code",
   "execution_count": 134,
   "id": "1274851b",
   "metadata": {},
   "outputs": [
    {
     "name": "stdout",
     "output_type": "stream",
     "text": [
      "valid\n"
     ]
    }
   ],
   "source": [
    "a=5\n",
    "b=10\n",
    "c=2\n",
    "d=True\n",
    "\n",
    "x=a+b*c\n",
    "y=a+b/d\n",
    "\n",
    "if(x>y):\n",
    "    print(\"valid\")\n",
    "else:\n",
    "    print(\"invalid\")"
   ]
  },
  {
   "cell_type": "code",
   "execution_count": null,
   "id": "b004f161",
   "metadata": {},
   "outputs": [],
   "source": [
    "Question 11:\n",
    "You are writing a python pogram to read two int values from the keyboard and print the sum.\n",
    "x= input(\"Enter first number:\")\n",
    "y= input(\"Enter second number:\")\n",
    "Which of the following code we have to write at Line-1 to print sum of given numbers?\n"
   ]
  },
  {
   "cell_type": "code",
   "execution_count": 8,
   "id": "95d0bcf0",
   "metadata": {},
   "outputs": [
    {
     "name": "stdout",
     "output_type": "stream",
     "text": [
      "Enter first number:5\n",
      "Enter second number:7\n"
     ]
    }
   ],
   "source": [
    "x= input(\"Enter first number:\")\n",
    "y= input(\"Enter second number:\")\n"
   ]
  },
  {
   "cell_type": "code",
   "execution_count": 10,
   "id": "4f6a9c17",
   "metadata": {},
   "outputs": [
    {
     "data": {
      "text/plain": [
       "'12'"
      ]
     },
     "execution_count": 10,
     "metadata": {},
     "output_type": "execute_result"
    }
   ],
   "source": [
    "str(int(x)+int(y))"
   ]
  },
  {
   "cell_type": "code",
   "execution_count": 13,
   "id": "b662031d",
   "metadata": {},
   "outputs": [
    {
     "name": "stdout",
     "output_type": "stream",
     "text": [
      "The result: 12\n"
     ]
    }
   ],
   "source": [
    "print('The result: '+ str(int(x)+int(y)))"
   ]
  },
  {
   "cell_type": "code",
   "execution_count": 17,
   "id": "6156420a",
   "metadata": {},
   "outputs": [
    {
     "name": "stdout",
     "output_type": "stream",
     "text": [
      "The result: 57\n"
     ]
    }
   ],
   "source": [
    "print('The result: '+ str(int(x+y)))"
   ]
  },
  {
   "cell_type": "code",
   "execution_count": null,
   "id": "ad4a2527",
   "metadata": {},
   "outputs": [],
   "source": [
    "Question12:\n",
    "Consider the expression\n",
    "result=a-b*c+d\n",
    "Which of the following are valid?"
   ]
  },
  {
   "cell_type": "code",
   "execution_count": 26,
   "id": "2c5668a3",
   "metadata": {},
   "outputs": [],
   "source": [
    "a=20\n",
    "b=5\n",
    "c=4\n",
    "d=8\n",
    "result= a-b*c+d"
   ]
  },
  {
   "cell_type": "code",
   "execution_count": 27,
   "id": "d87fc946",
   "metadata": {},
   "outputs": [
    {
     "data": {
      "text/plain": [
       "8"
      ]
     },
     "execution_count": 27,
     "metadata": {},
     "output_type": "execute_result"
    }
   ],
   "source": [
    "result"
   ]
  },
  {
   "cell_type": "code",
   "execution_count": 28,
   "id": "dba58ce1",
   "metadata": {},
   "outputs": [],
   "source": [
    "result=a-(b*c)+d"
   ]
  },
  {
   "cell_type": "code",
   "execution_count": 29,
   "id": "89193c87",
   "metadata": {},
   "outputs": [
    {
     "data": {
      "text/plain": [
       "8"
      ]
     },
     "execution_count": 29,
     "metadata": {},
     "output_type": "execute_result"
    }
   ],
   "source": [
    "result"
   ]
  },
  {
   "cell_type": "code",
   "execution_count": null,
   "id": "33d5fbf0",
   "metadata": {},
   "outputs": [],
   "source": [
    "# (b*c) is evaluated first, followed by subtraction and addition."
   ]
  },
  {
   "cell_type": "code",
   "execution_count": null,
   "id": "8f9cc4e4",
   "metadata": {},
   "outputs": [],
   "source": [
    "Question 13:\n",
    "Consider the following python code:\n",
    "weight=62.4\n",
    "zip='80098'\n",
    "value=+23E4\n",
    "The value of weight,zip, value variable respectively are:"
   ]
  },
  {
   "cell_type": "code",
   "execution_count": 30,
   "id": "a87a23e7",
   "metadata": {},
   "outputs": [],
   "source": [
    "weight=62.4\n",
    "zip='80098'\n",
    "value=+23E4"
   ]
  },
  {
   "cell_type": "code",
   "execution_count": 31,
   "id": "f72d49fa",
   "metadata": {},
   "outputs": [
    {
     "data": {
      "text/plain": [
       "float"
      ]
     },
     "execution_count": 31,
     "metadata": {},
     "output_type": "execute_result"
    }
   ],
   "source": [
    "type(weight)"
   ]
  },
  {
   "cell_type": "code",
   "execution_count": 32,
   "id": "6dd6a27b",
   "metadata": {},
   "outputs": [
    {
     "data": {
      "text/plain": [
       "str"
      ]
     },
     "execution_count": 32,
     "metadata": {},
     "output_type": "execute_result"
    }
   ],
   "source": [
    "type(zip)"
   ]
  },
  {
   "cell_type": "code",
   "execution_count": 33,
   "id": "2154c41a",
   "metadata": {},
   "outputs": [
    {
     "data": {
      "text/plain": [
       "float"
      ]
     },
     "execution_count": 33,
     "metadata": {},
     "output_type": "execute_result"
    }
   ],
   "source": [
    "type(value)"
   ]
  },
  {
   "cell_type": "code",
   "execution_count": null,
   "id": "2bc183be",
   "metadata": {},
   "outputs": [],
   "source": [
    "Question 14:\n",
    "You are writing a python program. You required to handle data types properly.\n",
    "Consider the code segment:\n",
    "a=10+20\n",
    "b='10'+'20'\n",
    "c='10'*3\n",
    "Identify the types of a,b and c."
   ]
  },
  {
   "cell_type": "code",
   "execution_count": 34,
   "id": "b7f742b7",
   "metadata": {},
   "outputs": [],
   "source": [
    "a=10+20\n",
    "b='10'+'20'\n",
    "c='10'*3"
   ]
  },
  {
   "cell_type": "code",
   "execution_count": 35,
   "id": "a097c467",
   "metadata": {},
   "outputs": [
    {
     "data": {
      "text/plain": [
       "int"
      ]
     },
     "execution_count": 35,
     "metadata": {},
     "output_type": "execute_result"
    }
   ],
   "source": [
    "type(a)"
   ]
  },
  {
   "cell_type": "code",
   "execution_count": 36,
   "id": "5a64adb4",
   "metadata": {},
   "outputs": [
    {
     "data": {
      "text/plain": [
       "str"
      ]
     },
     "execution_count": 36,
     "metadata": {},
     "output_type": "execute_result"
    }
   ],
   "source": [
    "type(b)"
   ]
  },
  {
   "cell_type": "code",
   "execution_count": 37,
   "id": "d96faa1a",
   "metadata": {},
   "outputs": [
    {
     "data": {
      "text/plain": [
       "str"
      ]
     },
     "execution_count": 37,
     "metadata": {},
     "output_type": "execute_result"
    }
   ],
   "source": [
    "type(c)"
   ]
  },
  {
   "cell_type": "code",
   "execution_count": null,
   "id": "58a9075e",
   "metadata": {},
   "outputs": [],
   "source": [
    "Question 15:\n",
    "You have the following code\n",
    "a=bool([False])\n",
    "b=bool(3)\n",
    "c=bool(\"\")\n",
    "d=bool('')\n",
    "Which of the variables will represents False?"
   ]
  },
  {
   "cell_type": "code",
   "execution_count": 43,
   "id": "3d3750e0",
   "metadata": {},
   "outputs": [],
   "source": [
    "a=bool([False])\n",
    "b=bool(3)\n",
    "c=bool(\"\")\n",
    "d=bool(' ')"
   ]
  },
  {
   "cell_type": "code",
   "execution_count": 44,
   "id": "75980b57",
   "metadata": {},
   "outputs": [
    {
     "data": {
      "text/plain": [
       "True"
      ]
     },
     "execution_count": 44,
     "metadata": {},
     "output_type": "execute_result"
    }
   ],
   "source": [
    "a"
   ]
  },
  {
   "cell_type": "code",
   "execution_count": 45,
   "id": "0d12855d",
   "metadata": {},
   "outputs": [
    {
     "data": {
      "text/plain": [
       "True"
      ]
     },
     "execution_count": 45,
     "metadata": {},
     "output_type": "execute_result"
    }
   ],
   "source": [
    "b"
   ]
  },
  {
   "cell_type": "code",
   "execution_count": 46,
   "id": "999cfb78",
   "metadata": {},
   "outputs": [
    {
     "data": {
      "text/plain": [
       "False"
      ]
     },
     "execution_count": 46,
     "metadata": {},
     "output_type": "execute_result"
    }
   ],
   "source": [
    "c"
   ]
  },
  {
   "cell_type": "code",
   "execution_count": 47,
   "id": "bd508fe5",
   "metadata": {},
   "outputs": [
    {
     "data": {
      "text/plain": [
       "True"
      ]
     },
     "execution_count": 47,
     "metadata": {},
     "output_type": "execute_result"
    }
   ],
   "source": [
    "d"
   ]
  },
  {
   "cell_type": "code",
   "execution_count": null,
   "id": "b5998646",
   "metadata": {},
   "outputs": [],
   "source": [
    "Question 16:\n",
    "Consider the following expression\n",
    "result=(2*(3+4)**2-(3**3)*3)\n",
    "What is the result value?    "
   ]
  },
  {
   "cell_type": "code",
   "execution_count": 48,
   "id": "09a211b1",
   "metadata": {},
   "outputs": [],
   "source": [
    "result=(2*(3+4)**2-(3**3)*3)"
   ]
  },
  {
   "cell_type": "code",
   "execution_count": 49,
   "id": "9e257585",
   "metadata": {},
   "outputs": [
    {
     "data": {
      "text/plain": [
       "17"
      ]
     },
     "execution_count": 49,
     "metadata": {},
     "output_type": "execute_result"
    }
   ],
   "source": [
    "result"
   ]
  },
  {
   "cell_type": "code",
   "execution_count": null,
   "id": "258c1c88",
   "metadata": {},
   "outputs": [],
   "source": [
    "Question 17:\n",
    "Consider the code\n",
    "a=2\n",
    "a+=1\n",
    "line1\n",
    "To make value as 9, which expression require to place at line1?"
   ]
  },
  {
   "cell_type": "code",
   "execution_count": 51,
   "id": "9b757a5c",
   "metadata": {},
   "outputs": [],
   "source": [
    "a=2\n",
    "a+=1"
   ]
  },
  {
   "cell_type": "code",
   "execution_count": 52,
   "id": "561fe3ea",
   "metadata": {},
   "outputs": [],
   "source": [
    "a**=2"
   ]
  },
  {
   "cell_type": "code",
   "execution_count": 53,
   "id": "c28d50d8",
   "metadata": {},
   "outputs": [
    {
     "data": {
      "text/plain": [
       "9"
      ]
     },
     "execution_count": 53,
     "metadata": {},
     "output_type": "execute_result"
    }
   ],
   "source": [
    "a"
   ]
  },
  {
   "cell_type": "code",
   "execution_count": null,
   "id": "d0f4f36c",
   "metadata": {},
   "outputs": [],
   "source": [
    "Question 18:\n",
    "a=bool(0)\n",
    "b=b00l(3)\n",
    "c=bool(0.5)\n",
    "d=bool(0.0)\n",
    "which variable represent True?"
   ]
  },
  {
   "cell_type": "code",
   "execution_count": 57,
   "id": "c7baf2fa",
   "metadata": {},
   "outputs": [],
   "source": [
    "a=bool(0)\n",
    "b=bool(3)\n",
    "c=bool(0.5)\n",
    "d=bool(0.0)"
   ]
  },
  {
   "cell_type": "code",
   "execution_count": 59,
   "id": "2ddd13f4",
   "metadata": {},
   "outputs": [
    {
     "data": {
      "text/plain": [
       "False"
      ]
     },
     "execution_count": 59,
     "metadata": {},
     "output_type": "execute_result"
    }
   ],
   "source": [
    "a"
   ]
  },
  {
   "cell_type": "code",
   "execution_count": 60,
   "id": "79cb1dae",
   "metadata": {},
   "outputs": [
    {
     "data": {
      "text/plain": [
       "True"
      ]
     },
     "execution_count": 60,
     "metadata": {},
     "output_type": "execute_result"
    }
   ],
   "source": [
    "b"
   ]
  },
  {
   "cell_type": "code",
   "execution_count": 61,
   "id": "21ef325a",
   "metadata": {},
   "outputs": [
    {
     "data": {
      "text/plain": [
       "True"
      ]
     },
     "execution_count": 61,
     "metadata": {},
     "output_type": "execute_result"
    }
   ],
   "source": [
    "c"
   ]
  },
  {
   "cell_type": "code",
   "execution_count": 62,
   "id": "20d4f67e",
   "metadata": {},
   "outputs": [
    {
     "data": {
      "text/plain": [
       "False"
      ]
     },
     "execution_count": 62,
     "metadata": {},
     "output_type": "execute_result"
    }
   ],
   "source": [
    "d"
   ]
  },
  {
   "cell_type": "code",
   "execution_count": null,
   "id": "ed22567d",
   "metadata": {},
   "outputs": [],
   "source": [
    "Question 19:\n",
    "a=21\n",
    "b=6\n",
    "print(a/b),print(a//b),print(a%b)"
   ]
  },
  {
   "cell_type": "code",
   "execution_count": 64,
   "id": "2e52c057",
   "metadata": {},
   "outputs": [
    {
     "name": "stdout",
     "output_type": "stream",
     "text": [
      "3.5\n",
      "3\n",
      "3\n"
     ]
    }
   ],
   "source": [
    "a=21\n",
    "b=6\n",
    "print(a/b)\n",
    "print(a//b)\n",
    "print(a%b)"
   ]
  },
  {
   "cell_type": "code",
   "execution_count": null,
   "id": "50015279",
   "metadata": {},
   "outputs": [],
   "source": [
    "Question 20:\n",
    "You are developing a python application for your company.\n",
    "A list named employees contains 500 employee, the last three being company management. Which of the following represents only\n",
    "management employees"
   ]
  },
  {
   "cell_type": "code",
   "execution_count": 1,
   "id": "25e11a9b",
   "metadata": {},
   "outputs": [],
   "source": [
    "Employees = []"
   ]
  },
  {
   "cell_type": "code",
   "execution_count": null,
   "id": "4a00e8fa",
   "metadata": {},
   "outputs": [],
   "source": []
  },
  {
   "cell_type": "code",
   "execution_count": null,
   "id": "af0e424b",
   "metadata": {},
   "outputs": [],
   "source": []
  },
  {
   "cell_type": "code",
   "execution_count": null,
   "id": "e0d1a5ad",
   "metadata": {},
   "outputs": [],
   "source": []
  },
  {
   "cell_type": "code",
   "execution_count": null,
   "id": "cb988f3b",
   "metadata": {},
   "outputs": [],
   "source": [
    "Question 21:\n",
    "subjects=['java', 'python', 'sap']\n",
    "more_subjects=['java', 'python', 'sap']\n",
    "extra_subjects= more_subjects\n",
    "In which cases true will be printed to the console?"
   ]
  },
  {
   "cell_type": "code",
   "execution_count": 79,
   "id": "f85204b5",
   "metadata": {},
   "outputs": [
    {
     "name": "stdout",
     "output_type": "stream",
     "text": [
      "True\n"
     ]
    }
   ],
   "source": [
    "subjects=['java', 'python', 'sap']\n",
    "more_subjects=['java', 'python', 'sap']\n",
    "extra_subjects= more_subjects\n",
    "\n",
    "print(extra_subjects is more_subjects)"
   ]
  },
  {
   "cell_type": "code",
   "execution_count": 81,
   "id": "88ef565f",
   "metadata": {},
   "outputs": [
    {
     "name": "stdout",
     "output_type": "stream",
     "text": [
      "False\n"
     ]
    }
   ],
   "source": [
    "print(subjects is more_subjects)"
   ]
  },
  {
   "cell_type": "code",
   "execution_count": 80,
   "id": "19d9092a",
   "metadata": {},
   "outputs": [
    {
     "name": "stdout",
     "output_type": "stream",
     "text": [
      "False\n"
     ]
    }
   ],
   "source": [
    "print(subjects is extra_subjects)"
   ]
  },
  {
   "cell_type": "code",
   "execution_count": 82,
   "id": "cc4b59a4",
   "metadata": {},
   "outputs": [
    {
     "name": "stdout",
     "output_type": "stream",
     "text": [
      "True\n"
     ]
    }
   ],
   "source": [
    "print(subjects == extra_subjects)"
   ]
  },
  {
   "cell_type": "code",
   "execution_count": null,
   "id": "faf7f3ac",
   "metadata": {},
   "outputs": [],
   "source": [
    "Question 22:\n",
    "Consider the list\n",
    "List=['Apple','Banana','Carrot','Mango']\n",
    "Which of the following are valid ways of accessing Mango?"
   ]
  },
  {
   "cell_type": "code",
   "execution_count": 1,
   "id": "176a6138",
   "metadata": {},
   "outputs": [],
   "source": [
    "List=['Apple','Banana','Carrot','Mango']"
   ]
  },
  {
   "cell_type": "code",
   "execution_count": 2,
   "id": "a0b687d0",
   "metadata": {},
   "outputs": [
    {
     "data": {
      "text/plain": [
       "'Apple'"
      ]
     },
     "execution_count": 2,
     "metadata": {},
     "output_type": "execute_result"
    }
   ],
   "source": [
    "List[0]"
   ]
  },
  {
   "cell_type": "code",
   "execution_count": 3,
   "id": "2020ca45",
   "metadata": {},
   "outputs": [
    {
     "data": {
      "text/plain": [
       "'Mango'"
      ]
     },
     "execution_count": 3,
     "metadata": {},
     "output_type": "execute_result"
    }
   ],
   "source": [
    "List[-1]"
   ]
  },
  {
   "cell_type": "code",
   "execution_count": 4,
   "id": "a716ccab",
   "metadata": {},
   "outputs": [
    {
     "data": {
      "text/plain": [
       "'Mango'"
      ]
     },
     "execution_count": 4,
     "metadata": {},
     "output_type": "execute_result"
    }
   ],
   "source": [
    "List[3]"
   ]
  },
  {
   "cell_type": "code",
   "execution_count": null,
   "id": "f0bd8a41",
   "metadata": {},
   "outputs": [],
   "source": [
    "List[4]"
   ]
  },
  {
   "cell_type": "code",
   "execution_count": null,
   "id": "f9822f91",
   "metadata": {},
   "outputs": [],
   "source": [
    "Question 23:\n",
    "Which of the following code snippet will produce the output:\n",
    "Boy\n",
    "Cat\n",
    "Dog"
   ]
  },
  {
   "cell_type": "code",
   "execution_count": 7,
   "id": "95222a2e",
   "metadata": {},
   "outputs": [
    {
     "name": "stdout",
     "output_type": "stream",
     "text": [
      "Apple\n",
      "Boy\n",
      "Cat\n",
      "Dog\n"
     ]
    }
   ],
   "source": [
    "l=['Apple','Boy','Cat','Dog']\n",
    "for x in l:\n",
    "    print(x)"
   ]
  },
  {
   "cell_type": "code",
   "execution_count": 8,
   "id": "78ba7566",
   "metadata": {},
   "outputs": [
    {
     "name": "stdout",
     "output_type": "stream",
     "text": [
      "Apple\n",
      "Boy\n",
      "Cat\n",
      "Dog\n"
     ]
    }
   ],
   "source": [
    "l=['Apple','Boy','Cat','Dog']\n",
    "for x in l:\n",
    "    if len(l)!=3:\n",
    "        print(x)"
   ]
  },
  {
   "cell_type": "code",
   "execution_count": 20,
   "id": "ef9519db",
   "metadata": {},
   "outputs": [],
   "source": [
    "l=['Apple','Boy','Cat','Dog']\n",
    "for x in l:\n",
    "    if len(l)== 3:\n",
    "        print(x)"
   ]
  },
  {
   "cell_type": "code",
   "execution_count": 18,
   "id": "d73b5dfe",
   "metadata": {},
   "outputs": [
    {
     "ename": "SyntaxError",
     "evalue": "invalid syntax (Temp/ipykernel_8868/1578117512.py, line 3)",
     "output_type": "error",
     "traceback": [
      "\u001b[1;36m  File \u001b[1;32m\"C:\\Users\\Admin\\AppData\\Local\\Temp/ipykernel_8868/1578117512.py\"\u001b[1;36m, line \u001b[1;32m3\u001b[0m\n\u001b[1;33m    foe x in l1:\u001b[0m\n\u001b[1;37m        ^\u001b[0m\n\u001b[1;31mSyntaxError\u001b[0m\u001b[1;31m:\u001b[0m invalid syntax\n"
     ]
    }
   ],
   "source": [
    "l=['Apple','Boy','Cat','Dog']\n",
    "l1 =l[1:]\n",
    "foe x in l1:\n",
    "    print(x)"
   ]
  },
  {
   "cell_type": "code",
   "execution_count": null,
   "id": "ed4eb4a0",
   "metadata": {},
   "outputs": [],
   "source": [
    "Question 24:\n",
    "Consider the lists:\n",
    "numbers=[10,20,30,40,50]\n",
    "alphabets=['a','b','c','d','e']\n",
    "print (numbers is alphabets)\n",
    "print(numbers == alphabets)\n",
    "numbers=alphabets\n",
    "print (numbers is alphabets)\n",
    "print(numbers == alphabets)"
   ]
  },
  {
   "cell_type": "code",
   "execution_count": 2,
   "id": "d0ea60a2",
   "metadata": {},
   "outputs": [
    {
     "name": "stdout",
     "output_type": "stream",
     "text": [
      "False\n",
      "False\n",
      "True\n",
      "True\n"
     ]
    }
   ],
   "source": [
    "numbers=[10,20,30,40,50]\n",
    "alphabets=['a','b','c','d','e']\n",
    "print (numbers is alphabets)\n",
    "print(numbers == alphabets)\n",
    "numbers=alphabets\n",
    "print (numbers is alphabets)\n",
    "print(numbers == alphabets)"
   ]
  },
  {
   "cell_type": "code",
   "execution_count": null,
   "id": "969c3149",
   "metadata": {},
   "outputs": [],
   "source": [
    "Question 25:\n",
    "Consider the python code:\n",
    "age=0\n",
    "minor=False\n",
    "name='Durga'\n",
    "The types of age,minor and name variables respectively:"
   ]
  },
  {
   "cell_type": "code",
   "execution_count": 4,
   "id": "dcf4f90d",
   "metadata": {},
   "outputs": [],
   "source": [
    "age=0\n",
    "minor=False\n",
    "name='Durga'"
   ]
  },
  {
   "cell_type": "code",
   "execution_count": 12,
   "id": "20529907",
   "metadata": {},
   "outputs": [
    {
     "data": {
      "text/plain": [
       "int"
      ]
     },
     "execution_count": 12,
     "metadata": {},
     "output_type": "execute_result"
    }
   ],
   "source": [
    "type(age)"
   ]
  },
  {
   "cell_type": "code",
   "execution_count": 13,
   "id": "92e25671",
   "metadata": {},
   "outputs": [
    {
     "data": {
      "text/plain": [
       "bool"
      ]
     },
     "execution_count": 13,
     "metadata": {},
     "output_type": "execute_result"
    }
   ],
   "source": [
    "type(minor)"
   ]
  },
  {
   "cell_type": "code",
   "execution_count": 14,
   "id": "152380bb",
   "metadata": {},
   "outputs": [
    {
     "data": {
      "text/plain": [
       "str"
      ]
     },
     "execution_count": 14,
     "metadata": {},
     "output_type": "execute_result"
    }
   ],
   "source": [
    "type(name)"
   ]
  },
  {
   "cell_type": "code",
   "execution_count": null,
   "id": "e48ac9bb",
   "metadata": {},
   "outputs": [],
   "source": [
    "Question 26:\n",
    "Which of the following expression will generate max value?\n"
   ]
  },
  {
   "cell_type": "code",
   "execution_count": 15,
   "id": "a6afec5b",
   "metadata": {},
   "outputs": [
    {
     "data": {
      "text/plain": [
       "8"
      ]
     },
     "execution_count": 15,
     "metadata": {},
     "output_type": "execute_result"
    }
   ],
   "source": [
    "8//3*4"
   ]
  },
  {
   "cell_type": "code",
   "execution_count": 16,
   "id": "70fbf8ef",
   "metadata": {},
   "outputs": [
    {
     "data": {
      "text/plain": [
       "8"
      ]
     },
     "execution_count": 16,
     "metadata": {},
     "output_type": "execute_result"
    }
   ],
   "source": [
    "8%3*4"
   ]
  },
  {
   "cell_type": "code",
   "execution_count": 17,
   "id": "00e3618b",
   "metadata": {},
   "outputs": [
    {
     "data": {
      "text/plain": [
       "10.666666666666666"
      ]
     },
     "execution_count": 17,
     "metadata": {},
     "output_type": "execute_result"
    }
   ],
   "source": [
    "8/3*4"
   ]
  },
  {
   "cell_type": "code",
   "execution_count": 18,
   "id": "6aed9189",
   "metadata": {},
   "outputs": [
    {
     "data": {
      "text/plain": [
       "-4"
      ]
     },
     "execution_count": 18,
     "metadata": {},
     "output_type": "execute_result"
    }
   ],
   "source": [
    "8-3*4"
   ]
  },
  {
   "cell_type": "code",
   "execution_count": null,
   "id": "eb27fd20",
   "metadata": {},
   "outputs": [],
   "source": [
    "Question 27:\n",
    "Consider the code:\n",
    "s='python is easy'\n",
    "s1=s[6:-4]\n",
    "line 1\n",
    "print(len(s2))\n",
    "To print 2 as output, which code we have to insert in line 1?"
   ]
  },
  {
   "cell_type": "code",
   "execution_count": 21,
   "id": "291e157d",
   "metadata": {},
   "outputs": [
    {
     "name": "stdout",
     "output_type": "stream",
     "text": [
      "2\n"
     ]
    }
   ],
   "source": [
    "s='python is easy'\n",
    "s1=s[6:-4]\n",
    "s2=s1.strip()\n",
    "print(len(s2))"
   ]
  },
  {
   "cell_type": "code",
   "execution_count": null,
   "id": "cdd0631d",
   "metadata": {},
   "outputs": [],
   "source": [
    "Question 28:\n",
    "    "
   ]
  },
  {
   "cell_type": "code",
   "execution_count": 22,
   "id": "f245a8d6",
   "metadata": {},
   "outputs": [
    {
     "name": "stdout",
     "output_type": "stream",
     "text": [
      "3.0\n"
     ]
    }
   ],
   "source": [
    "a=15\n",
    "b=5\n",
    "print(a/b)"
   ]
  },
  {
   "cell_type": "code",
   "execution_count": null,
   "id": "7cfd3fe8",
   "metadata": {},
   "outputs": [],
   "source": [
    "Question. 29:\n",
    "You are developing a python application for your company\n",
    "A list named employees contain 500 employee names\n",
    "in which case we will get index error while accessing employee names?"
   ]
  },
  {
   "cell_type": "code",
   "execution_count": 38,
   "id": "66824881",
   "metadata": {},
   "outputs": [],
   "source": [
    "list_employees= list[0:500]"
   ]
  },
  {
   "cell_type": "code",
   "execution_count": 3,
   "id": "cbcc50dd",
   "metadata": {},
   "outputs": [
    {
     "ename": "NameError",
     "evalue": "name 'list_employees' is not defined",
     "output_type": "error",
     "traceback": [
      "\u001b[1;31m---------------------------------------------------------------------------\u001b[0m",
      "\u001b[1;31mNameError\u001b[0m                                 Traceback (most recent call last)",
      "\u001b[1;32m~\\AppData\\Local\\Temp/ipykernel_10672/3056707229.py\u001b[0m in \u001b[0;36m<module>\u001b[1;34m\u001b[0m\n\u001b[1;32m----> 1\u001b[1;33m \u001b[0mlist_employees\u001b[0m\u001b[1;33m\u001b[0m\u001b[1;33m\u001b[0m\u001b[0m\n\u001b[0m",
      "\u001b[1;31mNameError\u001b[0m: name 'list_employees' is not defined"
     ]
    }
   ],
   "source": [
    "list_employees"
   ]
  },
  {
   "cell_type": "code",
   "execution_count": 2,
   "id": "1aaca7eb",
   "metadata": {},
   "outputs": [
    {
     "ename": "SyntaxError",
     "evalue": "invalid syntax (Temp/ipykernel_10672/3583372473.py, line 1)",
     "output_type": "error",
     "traceback": [
      "\u001b[1;36m  File \u001b[1;32m\"C:\\Users\\Admin\\AppData\\Local\\Temp/ipykernel_10672/3583372473.py\"\u001b[1;36m, line \u001b[1;32m1\u001b[0m\n\u001b[1;33m    employees[]\u001b[0m\n\u001b[1;37m              ^\u001b[0m\n\u001b[1;31mSyntaxError\u001b[0m\u001b[1;31m:\u001b[0m invalid syntax\n"
     ]
    }
   ],
   "source": [
    "employees[]"
   ]
  },
  {
   "cell_type": "code",
   "execution_count": 27,
   "id": "25f54401",
   "metadata": {},
   "outputs": [
    {
     "ename": "NameError",
     "evalue": "name 'employees' is not defined",
     "output_type": "error",
     "traceback": [
      "\u001b[1;31m---------------------------------------------------------------------------\u001b[0m",
      "\u001b[1;31mNameError\u001b[0m                                 Traceback (most recent call last)",
      "\u001b[1;32m~\\AppData\\Local\\Temp/ipykernel_9752/3119414679.py\u001b[0m in \u001b[0;36m<module>\u001b[1;34m\u001b[0m\n\u001b[1;32m----> 1\u001b[1;33m \u001b[0memployees\u001b[0m\u001b[1;33m[\u001b[0m\u001b[1;33m-\u001b[0m\u001b[1;36m1\u001b[0m\u001b[1;33m]\u001b[0m\u001b[1;33m\u001b[0m\u001b[1;33m\u001b[0m\u001b[0m\n\u001b[0m",
      "\u001b[1;31mNameError\u001b[0m: name 'employees' is not defined"
     ]
    }
   ],
   "source": [
    "employees[-1]"
   ]
  },
  {
   "cell_type": "code",
   "execution_count": null,
   "id": "78988411",
   "metadata": {},
   "outputs": [],
   "source": [
    "none of above"
   ]
  },
  {
   "cell_type": "code",
   "execution_count": null,
   "id": "eae2f3e1",
   "metadata": {},
   "outputs": [],
   "source": [
    "Question 30:\n",
    "Consider the code \n",
    "a=1\n",
    "b=2\n",
    "c=4\n",
    "d=6\n",
    "which of the following results -4?"
   ]
  },
  {
   "cell_type": "code",
   "execution_count": 44,
   "id": "6d04ecae",
   "metadata": {},
   "outputs": [
    {
     "data": {
      "text/plain": [
       "0"
      ]
     },
     "execution_count": 44,
     "metadata": {},
     "output_type": "execute_result"
    }
   ],
   "source": [
    "a=1\n",
    "b=2\n",
    "c=4\n",
    "d=6\n",
    "(a+b)//c*d"
   ]
  },
  {
   "cell_type": "code",
   "execution_count": 45,
   "id": "26622007",
   "metadata": {},
   "outputs": [
    {
     "data": {
      "text/plain": [
       "0"
      ]
     },
     "execution_count": 45,
     "metadata": {},
     "output_type": "execute_result"
    }
   ],
   "source": [
    "(b+c)//a%d"
   ]
  },
  {
   "cell_type": "code",
   "execution_count": 46,
   "id": "dbd0904c",
   "metadata": {},
   "outputs": [
    {
     "data": {
      "text/plain": [
       "0"
      ]
     },
     "execution_count": 46,
     "metadata": {},
     "output_type": "execute_result"
    }
   ],
   "source": [
    "(a+b)//c%d"
   ]
  },
  {
   "cell_type": "code",
   "execution_count": 47,
   "id": "15e680fb",
   "metadata": {},
   "outputs": [
    {
     "data": {
      "text/plain": [
       "-4"
      ]
     },
     "execution_count": 47,
     "metadata": {},
     "output_type": "execute_result"
    }
   ],
   "source": [
    "(a+b)//d-c"
   ]
  },
  {
   "cell_type": "code",
   "execution_count": null,
   "id": "8bc694e7",
   "metadata": {},
   "outputs": [],
   "source": [
    "Question 31:\n",
    "Consider the code:\n",
    "s=('Python is easy')\n",
    "s1=s[-7:]\n",
    "s2=s[-4:]\n",
    "print(s1+s2)\n",
    "What is the result?"
   ]
  },
  {
   "cell_type": "code",
   "execution_count": 55,
   "id": "46daf134",
   "metadata": {},
   "outputs": [
    {
     "name": "stdout",
     "output_type": "stream",
     "text": [
      "is easyeasy\n"
     ]
    }
   ],
   "source": [
    "s=('Python is easy')\n",
    "s1=s[-7:]\n",
    "s2=s[-4:]\n",
    "print (s1 + s2)"
   ]
  },
  {
   "cell_type": "code",
   "execution_count": null,
   "id": "9a3951ca",
   "metadata": {},
   "outputs": [],
   "source": [
    "Question 32:\n",
    "Which of the following is valid python operator precedence order?"
   ]
  },
  {
   "cell_type": "code",
   "execution_count": null,
   "id": "ba6001d0",
   "metadata": {},
   "outputs": [],
   "source": [
    "Paranthesis\n",
    "exponents\n",
    "unary positive, negative and not\n",
    "muliplication and division\n",
    "addition and subtraction\n",
    "And"
   ]
  },
  {
   "cell_type": "code",
   "execution_count": null,
   "id": "3e0a5cf4",
   "metadata": {},
   "outputs": [],
   "source": [
    "Question 33:\n",
    "You are writing a python program to evaluate arithmatic expession.\n",
    "The expression is described as b is equals a multiplied by negative one, \n",
    "then raised to second power, where a is the value whih will be input and \n",
    "b is the result\n",
    "a=eval(input('enter a number for the expression:'))\n",
    "Which of the following is valid expression for given requirement?"
   ]
  },
  {
   "cell_type": "code",
   "execution_count": 2,
   "id": "1700f48d",
   "metadata": {},
   "outputs": [
    {
     "name": "stdout",
     "output_type": "stream",
     "text": [
      "enter a number for the expression:5\n"
     ]
    }
   ],
   "source": [
    "a=eval(input('enter a number for the expression:'))"
   ]
  },
  {
   "cell_type": "code",
   "execution_count": 4,
   "id": "6b7523cc",
   "metadata": {},
   "outputs": [],
   "source": [
    "b=(-a)**2"
   ]
  },
  {
   "cell_type": "code",
   "execution_count": 5,
   "id": "e9c46254",
   "metadata": {},
   "outputs": [
    {
     "data": {
      "text/plain": [
       "25"
      ]
     },
     "execution_count": 5,
     "metadata": {},
     "output_type": "execute_result"
    }
   ],
   "source": [
    "b"
   ]
  },
  {
   "cell_type": "code",
   "execution_count": null,
   "id": "3483b858",
   "metadata": {},
   "outputs": [],
   "source": [
    "Question 34:\n",
    "Consider the following expression:\n",
    "result=8//6%5+2**3-2\n",
    "print (result)\n",
    "What is the result?"
   ]
  },
  {
   "cell_type": "code",
   "execution_count": 6,
   "id": "59b69385",
   "metadata": {},
   "outputs": [
    {
     "name": "stdout",
     "output_type": "stream",
     "text": [
      "7\n"
     ]
    }
   ],
   "source": [
    "result=8//6%5+2**3-2\n",
    "print (result)"
   ]
  },
  {
   "cell_type": "code",
   "execution_count": null,
   "id": "c99b49f4",
   "metadata": {},
   "outputs": [],
   "source": [
    "Question 35:\n",
    "You have the following code:\n",
    "a=3\n",
    "b=5\n",
    "a+=2**3\n",
    "a-=b//2//3\n",
    "print(a)\n",
    "What is the result?"
   ]
  },
  {
   "cell_type": "code",
   "execution_count": 7,
   "id": "59d549e2",
   "metadata": {},
   "outputs": [
    {
     "name": "stdout",
     "output_type": "stream",
     "text": [
      "11\n"
     ]
    }
   ],
   "source": [
    "a=3\n",
    "b=5\n",
    "a+=2**3\n",
    "a-=b//2//3\n",
    "print(a)"
   ]
  },
  {
   "cell_type": "code",
   "execution_count": null,
   "id": "eefd6941",
   "metadata": {},
   "outputs": [],
   "source": [
    "Question 36:\n",
    "Consider the following variable declaration:\n",
    "a=bool([])\n",
    "b=bool(())\n",
    "c=bool(rangr(0))\n",
    "d=bool({})\n",
    "e=bool(set())\n",
    "Which of the above variable represent True?"
   ]
  },
  {
   "cell_type": "code",
   "execution_count": 13,
   "id": "7f9ae673",
   "metadata": {},
   "outputs": [],
   "source": [
    "a=bool([])"
   ]
  },
  {
   "cell_type": "code",
   "execution_count": 14,
   "id": "db9ab917",
   "metadata": {},
   "outputs": [],
   "source": [
    "b=bool(())"
   ]
  },
  {
   "cell_type": "code",
   "execution_count": 15,
   "id": "b2247495",
   "metadata": {},
   "outputs": [],
   "source": [
    "c=bool(range(0))"
   ]
  },
  {
   "cell_type": "code",
   "execution_count": null,
   "id": "f0d282c9",
   "metadata": {},
   "outputs": [],
   "source": [
    "d=bool({})"
   ]
  },
  {
   "cell_type": "code",
   "execution_count": 16,
   "id": "2c2b1cbc",
   "metadata": {},
   "outputs": [],
   "source": [
    "e=bool(set())"
   ]
  },
  {
   "cell_type": "code",
   "execution_count": null,
   "id": "4d0debdc",
   "metadata": {},
   "outputs": [],
   "source": [
    "None of above variables represents True"
   ]
  },
  {
   "cell_type": "code",
   "execution_count": null,
   "id": "49fa93d6",
   "metadata": {},
   "outputs": [],
   "source": [
    "Question 37:\n",
    "Consider the python code\n",
    "number=[10,20,30,40]\n",
    "x=0\n",
    "In which of the following cases 10 will be printed to the console?"
   ]
  },
  {
   "cell_type": "code",
   "execution_count": 30,
   "id": "4db385b0",
   "metadata": {},
   "outputs": [
    {
     "name": "stdout",
     "output_type": "stream",
     "text": [
      "20\n"
     ]
    }
   ],
   "source": [
    "number=[10,20,30,40]\n",
    "x=0\n",
    "for i in (30,40,50):\n",
    "    if i in number:\n",
    "        x=x+10\n",
    "print(x)"
   ]
  },
  {
   "cell_type": "code",
   "execution_count": 31,
   "id": "2169533d",
   "metadata": {},
   "outputs": [
    {
     "name": "stdout",
     "output_type": "stream",
     "text": [
      "5\n"
     ]
    }
   ],
   "source": [
    "number=[10,20,30,40]\n",
    "x=0\n",
    "for i in (30,40,50):\n",
    "    if i not in number:\n",
    "        x=x+5\n",
    "print(x)"
   ]
  },
  {
   "cell_type": "code",
   "execution_count": 32,
   "id": "33b4e319",
   "metadata": {},
   "outputs": [
    {
     "name": "stdout",
     "output_type": "stream",
     "text": [
      "10\n"
     ]
    }
   ],
   "source": [
    "number=[10,20,30,40]\n",
    "x=0\n",
    "for i in (30,40,50):\n",
    "    if i in number:\n",
    "        x=x+5\n",
    "print(x)"
   ]
  },
  {
   "cell_type": "code",
   "execution_count": 33,
   "id": "56fc467c",
   "metadata": {},
   "outputs": [
    {
     "name": "stdout",
     "output_type": "stream",
     "text": [
      "10\n"
     ]
    }
   ],
   "source": [
    "number=[10,20,30,40]\n",
    "x=0\n",
    "for i in (30,40,50):\n",
    "    if i not in number:\n",
    "        x=x+10\n",
    "print(x)"
   ]
  },
  {
   "cell_type": "code",
   "execution_count": null,
   "id": "a996912e",
   "metadata": {},
   "outputs": [],
   "source": [
    "Question 38:\n",
    "Consider the following lists:\n",
    "n1=[10,20,30,40,50]\n",
    "n2=[10,20,30,40,50]\n",
    "print(n1 is n2)\n",
    "print(n1==n2)\n",
    "if n1=n2\n",
    "print(n1 is n2)\n",
    "print(n1==n2)\n",
    "What is the result?"
   ]
  },
  {
   "cell_type": "code",
   "execution_count": 39,
   "id": "acba6a56",
   "metadata": {},
   "outputs": [
    {
     "name": "stdout",
     "output_type": "stream",
     "text": [
      "False\n",
      "True\n",
      "True\n",
      "True\n"
     ]
    }
   ],
   "source": [
    "n1=[10,20,30,40,50]\n",
    "n2=[10,20,30,40,50]\n",
    "print(n1 is n2)\n",
    "print(n1==n2)\n",
    "n1=n2\n",
    "print(n1 is n2)\n",
    "print(n1==n2)"
   ]
  },
  {
   "cell_type": "code",
   "execution_count": null,
   "id": "53cfb11a",
   "metadata": {},
   "outputs": [],
   "source": []
  },
  {
   "cell_type": "code",
   "execution_count": null,
   "id": "762547a0",
   "metadata": {},
   "outputs": [],
   "source": []
  }
 ],
 "metadata": {
  "kernelspec": {
   "display_name": "Python 3 (ipykernel)",
   "language": "python",
   "name": "python3"
  },
  "language_info": {
   "codemirror_mode": {
    "name": "ipython",
    "version": 3
   },
   "file_extension": ".py",
   "mimetype": "text/x-python",
   "name": "python",
   "nbconvert_exporter": "python",
   "pygments_lexer": "ipython3",
   "version": "3.9.7"
  }
 },
 "nbformat": 4,
 "nbformat_minor": 5
}
